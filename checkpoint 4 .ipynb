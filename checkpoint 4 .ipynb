{
 "cells": [
  {
   "cell_type": "markdown",
   "id": "552d5c73",
   "metadata": {},
   "source": [
    "# Checkpoint 4"
   ]
  },
  {
   "cell_type": "markdown",
   "id": "5601beef",
   "metadata": {},
   "source": [
    "## Question 1:"
   ]
  },
  {
   "cell_type": "code",
   "execution_count": 4,
   "id": "9d78277f",
   "metadata": {},
   "outputs": [
    {
     "data": {
      "text/plain": [
       "(9, 1)"
      ]
     },
     "execution_count": 4,
     "metadata": {},
     "output_type": "execute_result"
    }
   ],
   "source": [
    "def calculation(a,b):\n",
    "    ad=a+b\n",
    "    sou=a-b\n",
    "    return ad,sou \n",
    "calculation(5,4)"
   ]
  },
  {
   "cell_type": "markdown",
   "id": "8ddeb932",
   "metadata": {},
   "source": [
    "## Question 2: "
   ]
  },
  {
   "cell_type": "code",
   "execution_count": 5,
   "id": "8c3abdb9",
   "metadata": {},
   "outputs": [
    {
     "data": {
      "text/plain": [
       "35"
      ]
     },
     "execution_count": 5,
     "metadata": {},
     "output_type": "execute_result"
    }
   ],
   "source": [
    "def maximum(a,b,c):\n",
    "    m=max(a,b,c)\n",
    "    return m \n",
    "maximum(20,35,19)"
   ]
  },
  {
   "cell_type": "markdown",
   "id": "54cd799d",
   "metadata": {},
   "source": [
    "## Question 3:"
   ]
  },
  {
   "cell_type": "markdown",
   "id": "fba31215",
   "metadata": {},
   "source": [
    "### somme "
   ]
  },
  {
   "cell_type": "code",
   "execution_count": 8,
   "id": "2e0a7160",
   "metadata": {},
   "outputs": [
    {
     "data": {
      "text/plain": [
       "10"
      ]
     },
     "execution_count": 8,
     "metadata": {},
     "output_type": "execute_result"
    }
   ],
   "source": [
    "def sumlist(a):\n",
    "    tot=0\n",
    "    for i in a:\n",
    "        tot=tot+i\n",
    "    return tot\n",
    "    \n",
    "sumlist([2,3,5])\n",
    "    "
   ]
  },
  {
   "cell_type": "code",
   "execution_count": 11,
   "id": "f7bafa25",
   "metadata": {},
   "outputs": [
    {
     "data": {
      "text/plain": [
       "11"
      ]
     },
     "execution_count": 11,
     "metadata": {},
     "output_type": "execute_result"
    }
   ],
   "source": [
    "def suml(a):\n",
    "    return sum(a)\n",
    "suml([2,5,4])"
   ]
  },
  {
   "cell_type": "markdown",
   "id": "89ac7564",
   "metadata": {},
   "source": [
    "### multiplication "
   ]
  },
  {
   "cell_type": "code",
   "execution_count": 21,
   "id": "5c8e8f3e",
   "metadata": {},
   "outputs": [
    {
     "data": {
      "text/plain": [
       "48"
      ]
     },
     "execution_count": 21,
     "metadata": {},
     "output_type": "execute_result"
    }
   ],
   "source": [
    "def multi(a):\n",
    "    t=1\n",
    "    for i in a:\n",
    "        t=t*i\n",
    "    \n",
    "    return t\n",
    "    \n",
    "\n",
    "multi([2,6,4])"
   ]
  },
  {
   "cell_type": "markdown",
   "id": "f491e8a3",
   "metadata": {},
   "source": [
    "### both"
   ]
  },
  {
   "cell_type": "code",
   "execution_count": 34,
   "id": "d1ce7c46",
   "metadata": {},
   "outputs": [
    {
     "data": {
      "text/plain": [
       "(10, 10)"
      ]
     },
     "execution_count": 34,
     "metadata": {},
     "output_type": "execute_result"
    }
   ],
   "source": [
    "def both(a):\n",
    "    even=[]\n",
    "    odd=[]\n",
    "    for i in range(len(a)):\n",
    "        if i%2==0:\n",
    "            even.append(a[i])\n",
    "        else:\n",
    "            odd.append(a[i])\n",
    "    return sumlist(even),multi(odd) \n",
    "\n",
    "both([2,5,6,2,2,1,0])\n"
   ]
  },
  {
   "cell_type": "markdown",
   "id": "af550354",
   "metadata": {},
   "source": [
    "## Question 4: \n"
   ]
  },
  {
   "cell_type": "code",
   "execution_count": 35,
   "id": "bb500fea",
   "metadata": {},
   "outputs": [
    {
     "name": "stdout",
     "output_type": "stream",
     "text": [
      "green-red-yellow-black-whtite\n",
      "black-green-red-whtite-yellow\n"
     ]
    }
   ],
   "source": [
    "items=[n for n in input().split('-')]\n",
    "items.sort()\n",
    "print('-'.join(items))\n"
   ]
  },
  {
   "cell_type": "markdown",
   "id": "643cbe7f",
   "metadata": {},
   "source": [
    "## Question 5:"
   ]
  },
  {
   "cell_type": "code",
   "execution_count": 42,
   "id": "c72499dd",
   "metadata": {},
   "outputs": [
    {
     "name": "stdout",
     "output_type": "stream",
     "text": [
      "Provide D: 100,150,180\n",
      "[18, 22, 24]\n"
     ]
    }
   ],
   "source": [
    "import math\n",
    "\n",
    "numbers = input(\"Provide D: \")\n",
    "numbers = numbers.split(',')\n",
    "\n",
    "result_list = []\n",
    "for D in numbers:\n",
    "    Q = round(math.sqrt(2 * 50 * int(D) / 30))\n",
    "    result_list.append(Q)\n",
    "\n",
    "print(result_list)"
   ]
  },
  {
   "cell_type": "code",
   "execution_count": null,
   "id": "8e4bbd44",
   "metadata": {},
   "outputs": [],
   "source": []
  }
 ],
 "metadata": {
  "kernelspec": {
   "display_name": "Python 3",
   "language": "python",
   "name": "python3"
  },
  "language_info": {
   "codemirror_mode": {
    "name": "ipython",
    "version": 3
   },
   "file_extension": ".py",
   "mimetype": "text/x-python",
   "name": "python",
   "nbconvert_exporter": "python",
   "pygments_lexer": "ipython3",
   "version": "3.8.8"
  }
 },
 "nbformat": 4,
 "nbformat_minor": 5
}
